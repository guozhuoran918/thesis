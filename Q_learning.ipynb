{
 "cells": [
  {
   "cell_type": "code",
   "execution_count": 1,
   "metadata": {},
   "outputs": [],
   "source": [
    "import sys\n",
    "# sys.path.append(\"D:\\thesis\\thesis\\rllib\")\n",
    "\n",
    "import rllib as rl\n",
    "import json\n",
    "import joblib\n",
    "import numpy as np\n",
    "import torch\n",
    "dataset_train = \"./data_preprossing/output/train_cleaned.csv\"\n",
    "dataset_test = \"./data_preprossing/output/test_cleaned.csv\"\n",
    "symptom_map_file = \"./data/basic/symptoms_db.json\"\n",
    "condition_map_file = \"./data/basic/conditions_db.json\"\n",
    "# clf_file = \"data/basic/data/output/rf/rf_clf.joblib\"\n",
    "# clf_file = \"data/basic/data/output/rf/rf_clf.joblib\"\n",
    "clf_file = \"./symtom_models/output/nb_nlice/nb_serialized_sparse.joblib\"\n",
    "clf_data = joblib.load(clf_file)\n",
    "clf = clf_data.get('clf')\n",
    "import datetime\n",
    "import sys\n",
    "from pathlib import Path\n",
    "curr_path = str(Path().absolute())\n",
    "parent_path = str(Path().absolute().parent)\n",
    "sys.path.append(parent_path) # add current terminal path to sys.path\n",
    "curr_time = datetime.datetime.now().strftime(\"%Y%m%d-%H%M%S\") # obtain current time\n",
    "test =\"./data_preprossing/output/data/total_v1.csv\""
   ]
  },
  {
   "cell_type": "code",
   "execution_count": 2,
   "metadata": {},
   "outputs": [],
   "source": [
    "env = rl.environment.RLBasicMedEnvNOPATIENT(\n",
    "    data_file=test,\n",
    "    symptom_map_file=symptom_map_file,\n",
    "    condition_map_file=condition_map_file,\n",
    "    clf=clf,\n",
    "    classifer=\"nb\",\n",
    "    max_turn=20,\n",
    "    epoch = 1000\n",
    ")"
   ]
  },
  {
   "cell_type": "code",
   "execution_count": 2,
   "metadata": {},
   "outputs": [],
   "source": [
    "env = rl.environment.RLBasicMedEnv(\n",
    "    data_file=test,\n",
    "    symptom_map_file=symptom_map_file,\n",
    "    condition_map_file=condition_map_file,\n",
    "    clf=clf,\n",
    "    classifer=\"nb\",\n",
    "    max_turn=20,\n",
    "    epoch = 1000\n",
    ")"
   ]
  },
  {
   "cell_type": "code",
   "execution_count": 3,
   "metadata": {},
   "outputs": [],
   "source": [
    "cfg = rl.config.QlearningConfig()\n",
    "agent = rl.agent.AgentQlearning(env,cfg,False)"
   ]
  },
  {
   "cell_type": "code",
   "execution_count": 4,
   "metadata": {},
   "outputs": [
    {
     "name": "stdout",
     "output_type": "stream",
     "text": [
      "save model successfully\n"
     ]
    }
   ],
   "source": [
    "bench = rl.bench.MedQBench(agent,50000,1)\n",
    "bench.run_trial(debug=False)\n",
    "cfg = rl.config.QlearningConfig()\n",
    "rl.common.make_dir(cfg.result_path,cfg.model_path)\n",
    "agent.save(cfg.model_path)"
   ]
  },
  {
   "cell_type": "code",
   "execution_count": 6,
   "metadata": {},
   "outputs": [
    {
     "name": "stdout",
     "output_type": "stream",
     "text": [
      "0.00104\n",
      "-18.0556 4.98054\n",
      "0.004\n",
      "-16.98 6.855\n"
     ]
    }
   ],
   "source": [
    "\n",
    "rewards,success,average_rewards,average_steps =bench.rewardList,bench.get_success_rate(),bench.get_average_rewards(),bench.get_average_turn()\n",
    "print(success)\n",
    "print(average_rewards,average_steps)\n",
    "\n",
    "# testbench = rl.bench.MedBenchEval(agent,1000)\n",
    "# testbench.run_trial(debug=False)\n",
    "\n",
    "\n",
    "rewards,success,average_steps=rl.bench.eval(env,agent,1000)\n",
    "print(success/1000)\n",
    "print(np.mean(rewards),np.mean(average_steps))"
   ]
  },
  {
   "cell_type": "code",
   "execution_count": 24,
   "metadata": {},
   "outputs": [],
   "source": [
    "import matplotlib.pyplot as plt\n",
    "import seaborn as sns\n",
    "from pathlib import Path\n",
    "from matplotlib.font_manager import FontProperties\n",
    "\n",
    "def plot_loss(loss,tag=\"train\",env=\"milestone1\",algo = \"DQN\"):\n",
    "    sns.set()\n",
    "    plt.title(\"average learning curve of {} for {}\".format(algo,env))\n",
    "    plt.xlabel('epsiodes')\n",
    "    plt.plot(loss,label='loss')\n",
    "    plt.legend()\n",
    "\n",
    "\n",
    "def plot_rewards(rewards,tag=\"train\",env=\"milestone1\",algo = \"DQN\"):\n",
    "    sns.set()\n",
    "    plt.title(\"average learning curve of {} for {}\".format(algo,env))\n",
    "    plt.xlabel('epsiodes')\n",
    "    plt.plot(rewards,label='reward')\n",
    "    plt.legend()\n"
   ]
  },
  {
   "cell_type": "code",
   "execution_count": 36,
   "metadata": {},
   "outputs": [
    {
     "data": {
      "image/png": "[encoded data removed]",
      "text/plain": [
       "<Figure size 432x288 with 1 Axes>"
      ]
     },
     "metadata": {},
     "output_type": "display_data"
    }
   ],
   "source": [
    "# plot_rewards(rewards)\n",
    "eval = rewards\n",
    "success = 0\n",
    "plot_rewards(eval)\n"
   ]
  }
 ],
 "metadata": {
  "interpreter": {
   "hash": "7a49119d25f186b1b8fbf45c92b26e2bab72f5183a7a97ce39124ca72ff0752f"
  },
  "kernelspec": {
   "display_name": "Python 3.8.8 64-bit ('base': conda)",
   "language": "python",
   "name": "python3"
  },
  "language_info": {
   "codemirror_mode": {
    "name": "ipython",
    "version": 3
   },
   "file_extension": ".py",
   "mimetype": "text/x-python",
   "name": "python",
   "nbconvert_exporter": "python",
   "pygments_lexer": "ipython3",
   "version": "3.8.8"
  },
  "orig_nbformat": 4
 },
 "nbformat": 4,
 "nbformat_minor": 2
}
