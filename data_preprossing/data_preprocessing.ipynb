{
 "cells": [
  {
   "cell_type": "code",
   "execution_count": 22,
   "metadata": {},
   "outputs": [],
   "source": [
    "module_dir = \"/home/gzr/文档/medvice/thesis/data/NLICE\"\n",
    "import pandas as pd\n",
    "import numpy as np\n",
    "train_file = \"D:/thesis/thesis/data/basic/data/train.csv\"\n",
    "test_file = \"D:/thesis/thesis/data/basic/data/test.csv\"\n",
    "conditions_db_file = \"/home/gzr/文档/medvice/thesis/data/basic/conditions_db.json\"\n",
    "symptoms_db_file = \"/home/gzr/文档/medvice/thesis/data/basic/symptoms_db.json\"\n",
    "outputdir = \"./output\"\n",
    "import pathlib"
   ]
  },
  {
   "cell_type": "code",
   "execution_count": 25,
   "metadata": {},
   "outputs": [
    {
     "name": "stderr",
     "output_type": "stream",
     "text": [
      "D:\\programe\\Anaconda\\lib\\site-packages\\IPython\\core\\interactiveshell.py:3357: DtypeWarning: Columns (5,8) have mixed types.Specify dtype option on import or set low_memory=False.\n",
      "  if (await self.run_code(code, result,  async_=asy)):\n"
     ]
    }
   ],
   "source": [
    "#cleaning invaild data \n",
    "import os\n",
    "def cleandata(data_file,outputdir):\n",
    "    pathlib.Path(outputdir).mkdir(parents=True, exist_ok=True)\n",
    "    usecols = ['GENDER', 'RACE', 'AGE_BEGIN', 'PATHOLOGY', 'NUM_SYMPTOMS', 'SYMPTOMS']\n",
    "    df = pd.read_csv(data_file, usecols=usecols)\n",
    "    filename = data_file.split(\"/\")[-1]\n",
    "    df['SYMPTOMS'] = df.SYMPTOMS.apply(dropdata)\n",
    "    df['SYMPTOMS'].replace('', np.nan, inplace=True)\n",
    "    ordered_keys = ['GENDER', 'RACE', 'AGE_BEGIN', 'PATHOLOGY', 'NUM_SYMPTOMS', 'SYMPTOMS']\n",
    "    df = df[ordered_keys]\n",
    "    df.dropna(subset=['SYMPTOMS'],inplace=True)\n",
    "    output_file = os.path.join(outputdir, \"%s_cleaned.csv\" % filename)\n",
    "    df.to_csv(output_file)\n",
    "    return output_file\n",
    "\n",
    "def dropdata(symptom_str):\n",
    "    symptom_list = symptom_str.split(\";\")\n",
    "    transformed_symptoms = []\n",
    "    for _symp_def in symptom_list:\n",
    "        sym_list = _symp_def.split(\":\")\n",
    "        if(len(sym_list)==9):\n",
    "          transformed_symptoms.append(_symp_def)\n",
    "        # else:\n",
    "        #     _symp_def = np.nan\n",
    "        #     return np.nan\n",
    "            \n",
    "    return \";\".join(transformed_symptoms)\n",
    "\n",
    "#clearned_test = cleandata(test_file,outputdir)\n",
    "clearned_train = cleandata(train_file,outputdir)\n"
   ]
  }
 ],
 "metadata": {
  "interpreter": {
   "hash": "7a49119d25f186b1b8fbf45c92b26e2bab72f5183a7a97ce39124ca72ff0752f"
  },
  "kernelspec": {
   "display_name": "Python 3.8.8 64-bit ('base': conda)",
   "name": "python3"
  },
  "language_info": {
   "codemirror_mode": {
    "name": "ipython",
    "version": 3
   },
   "file_extension": ".py",
   "mimetype": "text/x-python",
   "name": "python",
   "nbconvert_exporter": "python",
   "pygments_lexer": "ipython3",
   "version": "3.8.8"
  },
  "orig_nbformat": 4
 },
 "nbformat": 4,
 "nbformat_minor": 2
}
