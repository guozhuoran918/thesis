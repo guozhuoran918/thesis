{
 "cells": [
  {
   "cell_type": "markdown",
   "source": [
    "This notebook trains an RF and NB agent on the extended data.\n",
    "\n",
    "A separate dataset would be used to train the RL agent.\n",
    "\n",
    "The downside to this method is that the RL method relies heavily on the accuracy of the RF and NB models and would be limited by their accuracy."
   ],
   "metadata": {}
  },
  {
   "cell_type": "code",
   "execution_count": 1,
   "source": [
    "#module_dir = \"/Users/teliov/TUD/symcat-to-synthea/output/module_ai_med_extended\"\n",
    "module_dir = \"/home/gzr/文档/medvice/thesis/data/NLICE\""
   ],
   "outputs": [],
   "metadata": {}
  },
  {
   "cell_type": "code",
   "execution_count": 2,
   "source": [
    "from thesislib.utils.ml import process\n",
    "from sklearn.model_selection import StratifiedShuffleSplit"
   ],
   "outputs": [],
   "metadata": {}
  },
  {
   "cell_type": "code",
   "execution_count": 34,
   "source": [
    "symptom_map, condition_map = process.get_symptom_condition_map(module_dir)\n",
    "print(symptom_map)"
   ],
   "outputs": [
    {
     "output_type": "stream",
     "name": "stdout",
     "text": [
      "{'aef44a382653203b3a250f04d5d4ab93b2ac410d75cbfa87b413569f': 'aura', '0cfc2a9e603e4df4a54c49478bc65b8daaf5b5844334a29d63e59cef': 'altered_vision', '88e3734465cfa73e79558a79b395d4492318ce1decdecd7409af6134': 'weakness', 'cde2666177368527bc5740613160ac5ccde486ee50bfbd7c48434099': 'altered_mental_state', 'f108db3f6fefb67927dda21aaad2f8887ad77e8fffe3e0915ac2681a': 'focal_neurological_symptoms', 'ab13eeecfc96af0c8a78818438af23c643522e51c04ba9c217b868b3': 'stiffness', '7d063801e12b750d1176a339c4a5eebf4a39554e7502734e1355ec3d': 'vomiting', '796c7f05c32836db0f3cccfc7ae8e96e2a7157455e39d2d45ebbea3b': 'pain', 'a1b4c06c3ea6ab83d933b1980b6738a683aec3825b3f73a390c0c741': 'nausea', '2fc1b23c0e13e3aeb134ee121d9d3343aaa53bf4b7820fb0873ff69e': 'slow_healing', '41eaa97fe501696ef3c3ab5402142d2c82a2704802f5962c93b3a82f': 'eruption', '2be670da9bd827b524a664f0dc9b119d02e005580da6844f2393b71a': 'altered_sleep', 'a19c9e3866a4b0dab527510697c3d291dc1cb0ac15ed9b58983ab99c': 'throbbing', '87835ab9d2d63526b21f44ff91c065b1c834e9863baabdd1dcbf39a9': 'tenderness', 'dd52980213ed3f58007375b494cf13182420dd104acf39cb84c683ab': 'fever', '1adf2ba1ef30870bf64150a0add23b4ad5ac4e1af968a58b396ea338': 'swelling', 'cf17c9f3c2c72b9a39ce84004295cd82401f62a61d29ade6469ca98e': 'difficulty_walking', 'deca93f042db67241206c380240242ea557b0c0b9a8bbdf36735ef17': 'discoloration', '52338d0ac5886ac3d6e714d79ce368991e82ee89cbab71893f7997fb': 'altered_stool', '7c6ef1def409846265af9e52a2e5755aae0c88d9fc07696a02683ae6': 'flatulence', '43939750f57781a77a26ff125c0936627efaedd98ce351d7bfa024ec': 'bloating', 'aa9b0e7faf766415a6fc25b8dade202c45f874bba5b74b80ee2838e9': 'altered_appetite', '1fa8ce9241c5ac1a51378cd45ec31b163a18ca2c39b56e41ecfd84ec': 'cramping', '7e87b82d17e66d05bb13992aad27f79f1d8606379e2d7742ff8a7c54': 'click_cracking', 'e958b9c6f2877a04b483fee3f226b929973b4e8bd4289978ce938ae5': 'numbness', 'eef32d05653043b418e221f09a0e7c11186c1ec837e0e489f570a0af': 'locking', '0e774ec3d15ac149356e32c99d4e41eceab49da5d0b7bc43e288b4d7': 'fear', 'f3a1dfb67f3bb5937e40ab38060592d2395fe3164327dc09690dde3b': 'grating', 'bb5b643801a53a770cad9531806e8be927b540907a83de8c48728301': 'inactivity', 'c02a35cb6b5d0f6fef351d2580517ddfaa8a4aad706f456981180e43': 'limitation_of_activities', '4e6c3fa0818ba95a5c2a577ea81f307e484028d96ba1deb326e2ee2f': 'altered_breathing', 'e6b5e51908d14c7e4e0d5b3721392af9ceb4d8bc0c95dc724645e2f0': 'tightness', '63a9eea4be08b44d2a55851478530318d0e7434c2a89007eb9109ddd': 'cough', '66dd342c2b27adbf4a40b574bb390da9fa4e6292ec4d29dae3597bc5': 'vomitting', '1274c232ce7251038351442768d7c3c9e84be30d6651e41abe4b1dfe': 'alterred_stool', '53b9f6b5f3a7b603e8c9cfd293a93a03f22c0dd95a018cddc38bb8d3': 'raynaud_s_sign', '80e24d26d1844b12326e347d54db39b32f3d7b54e27f068bc306881d': 'disability', '32c7cb722da262e578d34b6f73a127e5142ba6956af49a7b47a92895': 'dryness', 'd273bcb842f279e1ca9adc8e958688969fb94dc284eb240eef0cbf15': 'functional_disability', '8df7979d796816acf08b75d8a9078134d2dec9809288631294a3e8eb': 'weight_loss', '7c20f829a771219ece0f8f1fc531994a18d66bed3550fea645578243': 'fatigue', '854dd98b41873e5648b3416c2728570c3dcd405ace41e5a13ece748d': 'discharge', 'd7c0ea72732278558c9a03c6f9be91b43fae4c51d1f5f355a98bdab0': 'dizziness', '3d03e2427baa9f7854958a2a6f668ca39981dbd4a9dd65f9a0d46cd9': 'soreness', 'eaabcf22960b936766270bc98730618c1a03f3b631bd74b8dd7e286c': 'nausea_', 'c6379e57e6c5e3e25ad280bd66f2c16a50cf805d94e5e17447355d7b': 'congestion', '5728d551c97dd618e09ef85067d37246c65afff85693ca769e4dca66': 'incontinence', '38ae01218c5f7e406cd19b500ce061e8d42f651375954403f413e517': 'pain_relief_', 'c85cc8eab687a86317b7f8406f6c33f7e8dc314948167191dbc6323f': 'altered_sensation', 'b667a2b5e6f50ffab6c41ce8296c439fdbf793500eaed27ed5000d39': 'tenesmus', '88f4773871f52c171fb974858cb6f9f14e1791bd04a1cab1cca3b5c2': 'regurgitation', '619774facd5899d35dd246076889e2445bc588a513310d0e7e903510': 'seizures', '15274bb00ebddd42896c09a01644a1352491a60124fc9be3c2be768b': 'hemiparesis', '5e72f6eccef027c99093805e7dbc4e0eb9403b328e8f6e217ea4bfa7': 'altered_communication', 'da019821bdd6e2f2f218d167eb784c9b6ae5862d2496ab439682f29c': 'chills', '528355f97c9658a57da3d67117315c173a07b322050ff88a65bef2c9': 'reduced_agility', '842d461f984f135ac9aad7320aab8807bcad0b6c1593265761b6e596': 'altered_movement', '0c4a783196a57c75d7f329fa4bf845fcfe60d34a652fe3ca0a02968b': 'distension', '441e1f49a3ac39357369f2018bd4cdab3c8cbd79379be80a2550aa10': 'constipation', '39ae8e266e495c41ec37e2e2794930277131643cc17d76187e029443': 'enlargement', '25f7a9c449c1f24e3063fc27fb46c9dfd92b3ba3902b09f27baf9a36': 'pain_relief', '75c81817d3c9f43c5cb6b3b5c79c15829ee6035149fd8a852c33dc69': 'incontinence_'}\n"
     ]
    }
   ],
   "metadata": {}
  },
  {
   "cell_type": "code",
   "execution_count": 3,
   "source": [
    "import pathlib"
   ],
   "outputs": [
    {
     "output_type": "stream",
     "name": "stderr",
     "text": [
      "/home/gzr/anaconda3/lib/python3.8/site-packages/ipykernel/ipkernel.py:287: DeprecationWarning: `should_run_async` will not call `transform_cell` automatically in the future. Please pass the result to `transformed_cell` argument and any exception that happen during thetransform in `preprocessing_exc_tuple` in IPython 7.17 and above.\n",
      "  and should_run_async(code)\n"
     ]
    }
   ],
   "metadata": {}
  },
  {
   "cell_type": "code",
   "execution_count": 36,
   "source": [
    "#ata_dir = \"/Users/teliov/TUD/Thesis/Medvice/Notebooks/data/06_18_nlice_plus/extended\"\n",
    "data_dir = \"/home/gzr/文档/medvice/thesis/data/basic\"\n",
    "pathlib.Path(data_dir).mkdir(exist_ok=True, parents=True)"
   ],
   "outputs": [],
   "metadata": {}
  },
  {
   "cell_type": "code",
   "execution_count": 9,
   "source": [
    "import json\n",
    "import os"
   ],
   "outputs": [],
   "metadata": {}
  },
  {
   "cell_type": "code",
   "execution_count": 38,
   "source": [
    "symptom_map_file = os.path.join(data_dir, \"symptom_db.json\")\n",
    "with open(symptom_map_file, \"w\") as fp:\n",
    "    json.dump(symptom_map, fp, indent=4)"
   ],
   "outputs": [],
   "metadata": {}
  },
  {
   "cell_type": "code",
   "execution_count": 39,
   "source": [
    "condition_map_file = os.path.join(data_dir, \"condition_db.json\")\n",
    "with open(condition_map_file, \"w\") as fp:\n",
    "    json.dump(condition_map, fp, indent=4)"
   ],
   "outputs": [],
   "metadata": {}
  },
  {
   "cell_type": "code",
   "execution_count": 4,
   "source": [
    "from thesislib.utils.ml import process\n",
    "from thesislib.utils.ml import runners, models\n",
    "import pandas as pd"
   ],
   "outputs": [],
   "metadata": {}
  },
  {
   "cell_type": "code",
   "execution_count": 5,
   "source": [
    "#data_csv = \"/Users/teliov/TUD/Thesis/Medvice/Notebooks/data/06_18_nlice_plus/ai/output_med_ai_ext/symptoms/csv/symptoms.csv\"\n",
    "data_csv = \"/home/gzr/文档/medvice/thesis/data/nlice100k/symptoms/csv/symptoms.csv\""
   ],
   "outputs": [],
   "metadata": {}
  },
  {
   "cell_type": "code",
   "execution_count": 71,
   "source": [
    "def split_data(symptom_file, output_path, use_headers=False, train_split=0.8):\n",
    "    symptom_columns = ['PATIENT', 'GENDER', 'RACE', 'ETHNICITY', 'AGE_BEGIN', 'AGE_END',\n",
    "                       'PATHOLOGY', 'NUM_SYMPTOMS', 'SYMPTOMS']\n",
    "\n",
    "    pathlib.Path(output_path).mkdir(parents=True, exist_ok=True)\n",
    "\n",
    "    if use_headers:\n",
    "        df = pd.read_csv(symptom_file, names=symptom_columns)\n",
    "    else:\n",
    "        df = pd.read_csv(symptom_file,sep = \"\\t\")\n",
    "    df.index.name = \"Index\" \n",
    "    labels = df[\"PATHOLOGY\"].drop(0)\n",
    "    datas = df.drop(0)\n",
    "    print(labels)\n",
    "    #print(labels.value_counts())\n",
    "    splitter = StratifiedShuffleSplit(1, train_size=train_split)\n",
    "    train_index = None\n",
    "    test_index = None\n",
    "    for tr_idx, tst_index in splitter.split(datas, labels):\n",
    "        train_index = tr_idx\n",
    "        test_index = tst_index\n",
    "        break\n",
    "\n",
    "    train_df = df.iloc[train_index]\n",
    "    test_df = df.iloc[test_index]\n",
    "\n",
    "    train_op = os.path.join(output_path, \"train.csv\")\n",
    "    test_op = os.path.join(output_path, \"test.csv\")\n",
    "    train_df.to_csv(train_op)\n",
    "    test_df.to_csv(test_op)\n",
    "    return train_op, test_op\n"
   ],
   "outputs": [],
   "metadata": {}
  },
  {
   "cell_type": "code",
   "execution_count": 72,
   "source": [
    "op_data_dir = os.path.join(data_dir, \"data\")\n",
    "# split into train and test\n",
    "train_file, test_file = split_data(data_csv, op_data_dir,True,train_split=0.9)\n",
    "\n",
    "parsed_data_dir = os.path.join(op_data_dir, \"parsed\")"
   ],
   "outputs": [
    {
     "output_type": "stream",
     "name": "stderr",
     "text": [
      "/home/gzr/anaconda3/lib/python3.8/site-packages/IPython/core/interactiveshell.py:3357: DtypeWarning: Columns (4,5,7) have mixed types.Specify dtype option on import or set low_memory=False.\n",
      "  if (await self.run_code(code, result,  async_=asy)):\n"
     ]
    },
    {
     "output_type": "stream",
     "name": "stdout",
     "text": [
      "Index\n",
      "1                                       Giardiasis\n",
      "2                           Lumbar spinal stenosis\n",
      "3                          Pulmonary edema  oldest\n",
      "4                                   Osteoarthritis\n",
      "5                             Bacterial meningitis\n",
      "                            ...                   \n",
      "394686                      Carpal tunnel syndrome\n",
      "394687                                      Asthma\n",
      "394688                        Pulmonary edema  old\n",
      "394689                     Pulmonary edema  oldest\n",
      "394690    Viral meningitis  varicella zoster virus\n",
      "Name: PATHOLOGY, Length: 394690, dtype: object\n",
      "COPD                                        13471\n",
      "Gout                                        13418\n",
      "Rheumatoid arthritis  feminine              12980\n",
      "IBS (Constipation)                          12870\n",
      "Hernia Nuclei Pulposi                       12738\n",
      "Pulmonary edema  oldest                     12660\n",
      "Asthma                                      12655\n",
      "Appendicitis                                12653\n",
      "Pulmonary edema  young                      12645\n",
      "Atrophic gastritis                          12639\n",
      "Covid-19                                    12633\n",
      "Lumbar spinal stenosis                      12632\n",
      "Pulmonary edema  old                        12615\n",
      "Functional constipation                     12559\n",
      "Giardiasis                                  12548\n",
      "Salmonella infection                        12538\n",
      "Cauda equina                                12513\n",
      "Bacterial meningitis                        12503\n",
      "Viral meningitis  varicella zoster virus    12493\n",
      "Yersinia enterocolitica infection           12485\n",
      "Osteoarthritis                              12479\n",
      "Viral meningitis  enterovirus               12441\n",
      "Acute pancreatitis                          12432\n",
      "Seasonal Influenza                          12426\n",
      "Subarachnoidal bleeding                     12398\n",
      "Norovirus gastroenteritis                   12366\n",
      "Pneumothorax                                12327\n",
      "Pneumococcal pneumonia                      12291\n",
      "Lumbago                                     12272\n",
      "Carpal tunnel syndrome                      12206\n",
      "Rheumatoid arthritis  masculine             12190\n",
      "Migraine                                     3221\n",
      "Tension type headache                        1393\n",
      "Name: PATHOLOGY, dtype: int64\n"
     ]
    }
   ],
   "metadata": {}
  },
  {
   "cell_type": "code",
   "execution_count": 73,
   "source": [
    "import pandas as pd\n",
    "import numpy as np"
   ],
   "outputs": [
    {
     "output_type": "stream",
     "name": "stderr",
     "text": [
      "/home/gzr/anaconda3/lib/python3.8/site-packages/ipykernel/ipkernel.py:287: DeprecationWarning: `should_run_async` will not call `transform_cell` automatically in the future. Please pass the result to `transformed_cell` argument and any exception that happen during thetransform in `preprocessing_exc_tuple` in IPython 7.17 and above.\n",
      "  and should_run_async(code)\n"
     ]
    }
   ],
   "metadata": {}
  },
  {
   "cell_type": "code",
   "execution_count": 40,
   "source": [
    "#parse the train set\n",
    "RACE_CODE = {'white': 0, 'black':1, 'asian':2, 'native':3, 'other':4}\n",
    "def parse_data_nlice_adv(\n",
    "        filepath,\n",
    "        conditions_db_json,\n",
    "        symptoms_db_json,\n",
    "        output_path,\n",
    "        body_parts_json,\n",
    "        excitation_enc_json,\n",
    "        frequency_enc_json,\n",
    "        nature_enc_json,\n",
    "        vas_enc_json,\n",
    "        onset_json,\n",
    "        duration_json\n",
    "        ):\n",
    "    pathlib.Path(output_path).mkdir(parents=True, exist_ok=True)\n",
    "    with open(symptoms_db_json) as fp:\n",
    "        symptoms_db = json.load(fp)\n",
    "\n",
    "    with open(conditions_db_json) as fp:\n",
    "        conditions_db = json.load(fp)\n",
    "\n",
    "    with open(body_parts_json) as fp:\n",
    "        body_parts = json.load(fp)\n",
    "\n",
    "    with open(excitation_enc_json) as fp:\n",
    "        excitation_enc = json.load(fp)\n",
    "\n",
    "    with open(frequency_enc_json) as fp:\n",
    "        frequency_enc = json.load(fp)\n",
    "\n",
    "    with open(nature_enc_json) as fp:\n",
    "        nature_enc = json.load(fp)\n",
    "\n",
    "    with open(vas_enc_json) as fp:\n",
    "        vas_enc = json.load(fp)\n",
    "\n",
    "    with open(onset_json) as fp:\n",
    "        onset_enc = json.load(fp)\n",
    "\n",
    "    with open(duration_json) as fp:\n",
    "        duration_enc = json.load(fp)\n",
    "\n",
    "    usecols = ['GENDER', 'RACE', 'AGE_BEGIN', 'PATHOLOGY', 'NUM_SYMPTOMS', 'SYMPTOMS']\n",
    "\n",
    "    df = pd.read_csv(filepath, usecols=usecols)\n",
    "    filename = filepath.split(\"/\")[-1]\n",
    "\n",
    "    # drop the guys that have no symptoms\n",
    "    #f['NUM_SYMPTOMS'] = df['NUM_SYMPTOMS'].astype(int)\n",
    "    #df = df[df['NUM_SYMPTOMS']> 0]\n",
    "    df['LABEL'] = df.PATHOLOGY.apply(lambda v: conditions_db.get(v))\n",
    "    df['RACE'] = df.RACE.apply(lambda v: RACE_CODE.get(v))\n",
    "    df['GENDER'] = df.GENDER.apply(lambda gender: 0 if gender == 'F' else 1)\n",
    "    df = df.rename(columns={'AGE_BEGIN': 'AGE'})\n",
    "    print(df.SYMPTOMS)\n",
    "    df['SYMPTOMS'] = df.SYMPTOMS.apply(\n",
    "        transform_symptoms_nlice_adv,\n",
    "        symptom_db=symptoms_db,\n",
    "        body_parts=body_parts,\n",
    "        excitation_enc=excitation_enc,\n",
    "        frequency_enc=frequency_enc,\n",
    "        nature_enc=nature_enc,\n",
    "        vas_enc=vas_enc,\n",
    "        onset_enc = onset_enc,\n",
    "        duration_enc = duration_enc\n",
    "    )\n",
    "\n",
    "    ordered_keys = ['LABEL', 'GENDER', 'RACE', 'AGE', 'SYMPTOMS']\n",
    "    df = df[ordered_keys]\n",
    "    df.index.name = \"Index\"\n",
    "    output_file = os.path.join(output_path, \"%s_sparse.csv\" % filename)\n",
    "    df.to_csv(output_file)\n",
    "\n",
    "    return output_file\n",
    "\n",
    "def transform_symptoms_nlice_adv(\n",
    "        symptom_str,\n",
    "        symptom_db,\n",
    "        body_parts,\n",
    "        excitation_enc,\n",
    "        frequency_enc,\n",
    "        nature_enc,\n",
    "        vas_enc,\n",
    "        onset_enc,\n",
    "        duration_enc\n",
    "):  \n",
    "    print(symptom_str)\n",
    "    symptom_list = symptom_str.split(\";\")\n",
    "    transformed_symptoms = []\n",
    "    for _symp_def in symptom_list:\n",
    "        print(_symp_def)\n",
    "        sym_list = _symp_def.split(\":\")\n",
    "        if(len(sym_list)==9):\n",
    "            _symptom, _nature, _location, _intensity, _duration, _onset, _exciation, _frequency, _ = _symp_def.split(\":\")\n",
    "\n",
    "            _symptom_idx = symptom_db[_symptom] * 8\n",
    "\n",
    "            _nature_idx = _symptom_idx + 1\n",
    "            _nature_val = 1 if _nature == \"\" or _nature == \"other\" else nature_enc.get(_nature)\n",
    "\n",
    "            _location_idx = _symptom_idx + 2\n",
    "            _location_val = 1 if _location == \"\" or _location == \"other\" else body_parts.get(_location)\n",
    "\n",
    "            _intensity_idx = _symptom_idx + 3\n",
    "            _intensity_val = 1 if _intensity == \"\" else vas_enc.get(_intensity)\n",
    "\n",
    "            _duration_idx = _symptom_idx + 4\n",
    "            _duration_val = 0 if _duration == \"\" else duration_enc.get(_duration)\n",
    "\n",
    "            _onset_idx = _symptom_idx + 5\n",
    "            _onset_val = 0 if _onset == \"\" else onset_enc.get(_onset)\n",
    "\n",
    "            _excitation_idx = _symptom_idx + 6\n",
    "            _excitation_val = 1 if _exciation == \"\" else excitation_enc.get(_exciation)\n",
    "\n",
    "            _frequency_idx = _symptom_idx + 7\n",
    "            _frequency_val = 1 if _frequency == \"\" else frequency_enc.get(_frequency)\n",
    "\n",
    "            to_transform = [\n",
    "                \"|\".join([str(_symptom_idx), \"1\"]),\n",
    "                \"|\".join([str(_nature_idx), str(_nature_val)]),\n",
    "                \"|\".join([str(_location_idx), str(_location_val)]),\n",
    "                \"|\".join([str(_intensity_idx), str(_intensity_val)]),\n",
    "                \"|\".join([str(_excitation_idx), str(_excitation_val)]),\n",
    "                \"|\".join([str(_frequency_idx), str(_frequency_val)])\n",
    "            ]\n",
    "\n",
    "            if _duration_val != 0:\n",
    "                to_transform.append(\n",
    "                    \"|\".join([str(_duration_idx), str(_duration_val)])\n",
    "                )\n",
    "\n",
    "            if _onset_val != 0:\n",
    "                to_transform.append(\n",
    "                    \"|\".join([str(_onset_idx), str(_onset_val)]),\n",
    "                )\n",
    "\n",
    "            transformed_str = \";\".join(to_transform)\n",
    "\n",
    "            transformed_symptoms.append(transformed_str)\n",
    "\n",
    "    return \";\".join(transformed_symptoms)"
   ],
   "outputs": [],
   "metadata": {}
  },
  {
   "cell_type": "code",
   "execution_count": 38,
   "source": [
    "# parse the train set and let's train\n",
    "train_file = \"/home/gzr/文档/medvice/thesis/data/basic/data/train.csv\"\n",
    "test_file = \"/home/gzr/文档/medvice/thesis/data/basic/data/test.csv\"\n",
    "conditions_db_file = \"/home/gzr/文档/medvice/thesis/data/basic/conditions_db.json\"\n",
    "symptoms_db_file = \"/home/gzr/文档/medvice/thesis/data/basic/symptoms_db.json\"\n",
    "body_parts_file = \"/home/gzr/文档/medvice/thesis/data/basic/body-parts-enc.json\"\n",
    "excitation_enc_file = \"/home/gzr/文档/medvice/thesis/data/basic/excitation_encoding.json\"\n",
    "frequency_enc_file = \"/home/gzr/文档/medvice/thesis/data/basic/frequency_encoding.json\"\n",
    "nature_enc_file = \"/home/gzr/文档/medvice/thesis/data/basic/nature_encoding.json\"\n",
    "vas_enc_file = \"/home/gzr/文档/medvice/thesis/data/basic/vas_encoding.json\"\n",
    "onset_enc_file = \"/home/gzr/文档/medvice/thesis/data/basic/onset_encoding.json\"\n",
    "duration_enc_file = \"/home/gzr/文档/medvice/thesis/data/basic/duration_encoding.json\"\n",
    "parsed_data_dir = \"/home/gzr/文档/medvice/thesis/data/basic/data/parsed\"\n",
    "        # excitation_enc_json,\n",
    "        # frequency_enc_json,\n",
    "        # nature_enc_json,\n",
    "        # vas_enc_json\n",
    "parsed_train = parse_data_nlice_adv(\n",
    "    train_file,\n",
    "    conditions_db_file,\n",
    "    symptoms_db_file,\n",
    "    parsed_data_dir,\n",
    "    body_parts_file,\n",
    "    excitation_enc_file,\n",
    "    frequency_enc_file,\n",
    "    nature_enc_file,\n",
    "    vas_enc_file,\n",
    "    onset_enc_file,\n",
    "    duration_enc_file\n",
    ")"
   ],
   "outputs": [
    {
     "output_type": "stream",
     "name": "stderr",
     "text": [
      "/home/gzr/anaconda3/lib/python3.8/site-packages/IPython/core/interactiveshell.py:3357: DtypeWarning: Columns (5,8) have mixed types.Specify dtype option on import or set low_memory=False.\n",
      "  if (await self.run_code(code, result,  async_=asy)):\n"
     ]
    },
    {
     "output_type": "stream",
     "name": "stdout",
     "text": [
      "0              Pain_relief::::::Sitting/bending_forward::29\n",
      "1         Vomitting::::0_-_2_days::::29;Altered_stool:Mu...\n",
      "2         Vomiting::::::::46;Altered_stool:Diarrhea:::::...\n",
      "3                                            Pain::::::::42\n",
      "4         Focal_neurological_symptoms::::::::27;Pain::::...\n",
      "                                ...                        \n",
      "355216    Difficulty_walking:::::::Periodic:42;Eruption:...\n",
      "355217    Tightness::::::::33;Altered_breathing:Wheezing...\n",
      "355218    Tightness::::::::33;Altered_breathing:Wheezing...\n",
      "355219    Pain::::::::45;Vomiting::::::::28;Altered_stoo...\n",
      "355220    Stiffness::::::Morning::49;Fever::::::::27;Dry...\n",
      "Name: SYMPTOMS, Length: 355221, dtype: object\n",
      "Pain_relief::::::Sitting/bending_forward::29\n",
      "Pain_relief::::::Sitting/bending_forward::29\n"
     ]
    },
    {
     "output_type": "error",
     "ename": "TypeError",
     "evalue": "object of type 'bool' has no len()",
     "traceback": [
      "\u001b[0;31m---------------------------------------------------------------------------\u001b[0m",
      "\u001b[0;31mTypeError\u001b[0m                                 Traceback (most recent call last)",
      "\u001b[0;32m<ipython-input-38-b96c400fe4f9>\u001b[0m in \u001b[0;36m<module>\u001b[0;34m\u001b[0m\n\u001b[1;32m     16\u001b[0m         \u001b[0;31m# nature_enc_json,\u001b[0m\u001b[0;34m\u001b[0m\u001b[0;34m\u001b[0m\u001b[0;34m\u001b[0m\u001b[0m\n\u001b[1;32m     17\u001b[0m         \u001b[0;31m# vas_enc_json\u001b[0m\u001b[0;34m\u001b[0m\u001b[0;34m\u001b[0m\u001b[0;34m\u001b[0m\u001b[0m\n\u001b[0;32m---> 18\u001b[0;31m parsed_train = parse_data_nlice_adv(\n\u001b[0m\u001b[1;32m     19\u001b[0m     \u001b[0mtrain_file\u001b[0m\u001b[0;34m,\u001b[0m\u001b[0;34m\u001b[0m\u001b[0;34m\u001b[0m\u001b[0m\n\u001b[1;32m     20\u001b[0m     \u001b[0mconditions_db_file\u001b[0m\u001b[0;34m,\u001b[0m\u001b[0;34m\u001b[0m\u001b[0;34m\u001b[0m\u001b[0m\n",
      "\u001b[0;32m<ipython-input-37-3a05baa92cb5>\u001b[0m in \u001b[0;36mparse_data_nlice_adv\u001b[0;34m(filepath, conditions_db_json, symptoms_db_json, output_path, body_parts_json, excitation_enc_json, frequency_enc_json, nature_enc_json, vas_enc_json, onset_json, duration_json)\u001b[0m\n\u001b[1;32m     55\u001b[0m     \u001b[0mdf\u001b[0m \u001b[0;34m=\u001b[0m \u001b[0mdf\u001b[0m\u001b[0;34m.\u001b[0m\u001b[0mrename\u001b[0m\u001b[0;34m(\u001b[0m\u001b[0mcolumns\u001b[0m\u001b[0;34m=\u001b[0m\u001b[0;34m{\u001b[0m\u001b[0;34m'AGE_BEGIN'\u001b[0m\u001b[0;34m:\u001b[0m \u001b[0;34m'AGE'\u001b[0m\u001b[0;34m}\u001b[0m\u001b[0;34m)\u001b[0m\u001b[0;34m\u001b[0m\u001b[0;34m\u001b[0m\u001b[0m\n\u001b[1;32m     56\u001b[0m     \u001b[0mprint\u001b[0m\u001b[0;34m(\u001b[0m\u001b[0mdf\u001b[0m\u001b[0;34m.\u001b[0m\u001b[0mSYMPTOMS\u001b[0m\u001b[0;34m)\u001b[0m\u001b[0;34m\u001b[0m\u001b[0;34m\u001b[0m\u001b[0m\n\u001b[0;32m---> 57\u001b[0;31m     df['SYMPTOMS'] = df.SYMPTOMS.apply(\n\u001b[0m\u001b[1;32m     58\u001b[0m         \u001b[0mtransform_symptoms_nlice_adv\u001b[0m\u001b[0;34m,\u001b[0m\u001b[0;34m\u001b[0m\u001b[0;34m\u001b[0m\u001b[0m\n\u001b[1;32m     59\u001b[0m         \u001b[0msymptom_db\u001b[0m\u001b[0;34m=\u001b[0m\u001b[0msymptoms_db\u001b[0m\u001b[0;34m,\u001b[0m\u001b[0;34m\u001b[0m\u001b[0;34m\u001b[0m\u001b[0m\n",
      "\u001b[0;32m~/anaconda3/lib/python3.8/site-packages/pandas/core/series.py\u001b[0m in \u001b[0;36mapply\u001b[0;34m(self, func, convert_dtype, args, **kwds)\u001b[0m\n\u001b[1;32m   4136\u001b[0m             \u001b[0;32melse\u001b[0m\u001b[0;34m:\u001b[0m\u001b[0;34m\u001b[0m\u001b[0;34m\u001b[0m\u001b[0m\n\u001b[1;32m   4137\u001b[0m                 \u001b[0mvalues\u001b[0m \u001b[0;34m=\u001b[0m \u001b[0mself\u001b[0m\u001b[0;34m.\u001b[0m\u001b[0mastype\u001b[0m\u001b[0;34m(\u001b[0m\u001b[0mobject\u001b[0m\u001b[0;34m)\u001b[0m\u001b[0;34m.\u001b[0m\u001b[0m_values\u001b[0m\u001b[0;34m\u001b[0m\u001b[0;34m\u001b[0m\u001b[0m\n\u001b[0;32m-> 4138\u001b[0;31m                 \u001b[0mmapped\u001b[0m \u001b[0;34m=\u001b[0m \u001b[0mlib\u001b[0m\u001b[0;34m.\u001b[0m\u001b[0mmap_infer\u001b[0m\u001b[0;34m(\u001b[0m\u001b[0mvalues\u001b[0m\u001b[0;34m,\u001b[0m \u001b[0mf\u001b[0m\u001b[0;34m,\u001b[0m \u001b[0mconvert\u001b[0m\u001b[0;34m=\u001b[0m\u001b[0mconvert_dtype\u001b[0m\u001b[0;34m)\u001b[0m\u001b[0;34m\u001b[0m\u001b[0;34m\u001b[0m\u001b[0m\n\u001b[0m\u001b[1;32m   4139\u001b[0m \u001b[0;34m\u001b[0m\u001b[0m\n\u001b[1;32m   4140\u001b[0m         \u001b[0;32mif\u001b[0m \u001b[0mlen\u001b[0m\u001b[0;34m(\u001b[0m\u001b[0mmapped\u001b[0m\u001b[0;34m)\u001b[0m \u001b[0;32mand\u001b[0m \u001b[0misinstance\u001b[0m\u001b[0;34m(\u001b[0m\u001b[0mmapped\u001b[0m\u001b[0;34m[\u001b[0m\u001b[0;36m0\u001b[0m\u001b[0;34m]\u001b[0m\u001b[0;34m,\u001b[0m \u001b[0mSeries\u001b[0m\u001b[0;34m)\u001b[0m\u001b[0;34m:\u001b[0m\u001b[0;34m\u001b[0m\u001b[0;34m\u001b[0m\u001b[0m\n",
      "\u001b[0;32mpandas/_libs/lib.pyx\u001b[0m in \u001b[0;36mpandas._libs.lib.map_infer\u001b[0;34m()\u001b[0m\n",
      "\u001b[0;32m~/anaconda3/lib/python3.8/site-packages/pandas/core/series.py\u001b[0m in \u001b[0;36mf\u001b[0;34m(x)\u001b[0m\n\u001b[1;32m   4121\u001b[0m \u001b[0;34m\u001b[0m\u001b[0m\n\u001b[1;32m   4122\u001b[0m             \u001b[0;32mdef\u001b[0m \u001b[0mf\u001b[0m\u001b[0;34m(\u001b[0m\u001b[0mx\u001b[0m\u001b[0;34m)\u001b[0m\u001b[0;34m:\u001b[0m\u001b[0;34m\u001b[0m\u001b[0;34m\u001b[0m\u001b[0m\n\u001b[0;32m-> 4123\u001b[0;31m                 \u001b[0;32mreturn\u001b[0m \u001b[0mfunc\u001b[0m\u001b[0;34m(\u001b[0m\u001b[0mx\u001b[0m\u001b[0;34m,\u001b[0m \u001b[0;34m*\u001b[0m\u001b[0margs\u001b[0m\u001b[0;34m,\u001b[0m \u001b[0;34m**\u001b[0m\u001b[0mkwds\u001b[0m\u001b[0;34m)\u001b[0m\u001b[0;34m\u001b[0m\u001b[0;34m\u001b[0m\u001b[0m\n\u001b[0m\u001b[1;32m   4124\u001b[0m \u001b[0;34m\u001b[0m\u001b[0m\n\u001b[1;32m   4125\u001b[0m         \u001b[0;32melse\u001b[0m\u001b[0;34m:\u001b[0m\u001b[0;34m\u001b[0m\u001b[0;34m\u001b[0m\u001b[0m\n",
      "\u001b[0;32m<ipython-input-37-3a05baa92cb5>\u001b[0m in \u001b[0;36mtransform_symptoms_nlice_adv\u001b[0;34m(symptom_str, symptom_db, body_parts, excitation_enc, frequency_enc, nature_enc, vas_enc, onset_enc, duration_enc)\u001b[0m\n\u001b[1;32m     91\u001b[0m     \u001b[0;32mfor\u001b[0m \u001b[0m_symp_def\u001b[0m \u001b[0;32min\u001b[0m \u001b[0msymptom_list\u001b[0m\u001b[0;34m:\u001b[0m\u001b[0;34m\u001b[0m\u001b[0;34m\u001b[0m\u001b[0m\n\u001b[1;32m     92\u001b[0m         \u001b[0mprint\u001b[0m\u001b[0;34m(\u001b[0m\u001b[0m_symp_def\u001b[0m\u001b[0;34m)\u001b[0m\u001b[0;34m\u001b[0m\u001b[0;34m\u001b[0m\u001b[0m\n\u001b[0;32m---> 93\u001b[0;31m         \u001b[0;32mif\u001b[0m\u001b[0;34m(\u001b[0m\u001b[0mlen\u001b[0m\u001b[0;34m(\u001b[0m\u001b[0m_symp_def\u001b[0m\u001b[0;34m.\u001b[0m\u001b[0msplit\u001b[0m\u001b[0;34m(\u001b[0m\u001b[0;34m\":\"\u001b[0m\u001b[0;34m)\u001b[0m\u001b[0;34m==\u001b[0m\u001b[0;36m9\u001b[0m\u001b[0;34m)\u001b[0m\u001b[0;34m)\u001b[0m\u001b[0;34m:\u001b[0m\u001b[0;34m\u001b[0m\u001b[0;34m\u001b[0m\u001b[0m\n\u001b[0m\u001b[1;32m     94\u001b[0m             \u001b[0m_symptom\u001b[0m\u001b[0;34m,\u001b[0m \u001b[0m_nature\u001b[0m\u001b[0;34m,\u001b[0m \u001b[0m_location\u001b[0m\u001b[0;34m,\u001b[0m \u001b[0m_intensity\u001b[0m\u001b[0;34m,\u001b[0m \u001b[0m_duration\u001b[0m\u001b[0;34m,\u001b[0m \u001b[0m_onset\u001b[0m\u001b[0;34m,\u001b[0m \u001b[0m_exciation\u001b[0m\u001b[0;34m,\u001b[0m \u001b[0m_frequency\u001b[0m\u001b[0;34m,\u001b[0m \u001b[0m_\u001b[0m \u001b[0;34m=\u001b[0m \u001b[0m_symp_def\u001b[0m\u001b[0;34m.\u001b[0m\u001b[0msplit\u001b[0m\u001b[0;34m(\u001b[0m\u001b[0;34m\":\"\u001b[0m\u001b[0;34m)\u001b[0m\u001b[0;34m\u001b[0m\u001b[0;34m\u001b[0m\u001b[0m\n\u001b[1;32m     95\u001b[0m \u001b[0;34m\u001b[0m\u001b[0m\n",
      "\u001b[0;31mTypeError\u001b[0m: object of type 'bool' has no len()"
     ]
    }
   ],
   "metadata": {}
  },
  {
   "cell_type": "code",
   "execution_count": null,
   "source": [
    "# parse the test set for evaluation\n",
    "# parse the train set and let's train\n",
    "parsed_test = process.parse_data(\n",
    "    test_file,\n",
    "    condition_map_file,\n",
    "    symptom_map_file,\n",
    "    parsed_data_dir\n",
    ")"
   ],
   "outputs": [],
   "metadata": {}
  },
  {
   "cell_type": "code",
   "execution_count": null,
   "source": [
    "# train with RF and then with NB\n",
    "rf_dir = os.path.join(op_data_dir, \"output/rf\")\n",
    "rfparams = models.RFParams()\n",
    "rfparams.n_estimators = 200\n",
    "rfparams.max_depth = None\n",
    "\n",
    "pathlib.Path(rf_dir).mkdir(parents=True, exist_ok=True)"
   ],
   "outputs": [],
   "metadata": {}
  },
  {
   "cell_type": "code",
   "execution_count": null,
   "source": [
    "run_ok = runners.train_ai_med_rf(\n",
    "    parsed_train,\n",
    "    symptom_map_file,\n",
    "    rf_dir,\n",
    "    rfparams,\n",
    "    \"Basic AI-MED Run\",\n",
    "    \"local-pc\"\n",
    ")"
   ],
   "outputs": [],
   "metadata": {}
  },
  {
   "cell_type": "code",
   "execution_count": null,
   "source": [
    "# train NB\n",
    "nb_dir = os.path.join(op_data_dir, \"output/nb\")\n",
    "\n",
    "run_ok = runners.train_ai_med_nb(\n",
    "    parsed_train,\n",
    "    symptom_map_file,\n",
    "    nb_dir,\n",
    "    \"Basic AI-MED Run\",\n",
    "    \"local-pc\"\n",
    ")"
   ],
   "outputs": [],
   "metadata": {}
  },
  {
   "cell_type": "code",
   "execution_count": null,
   "source": [
    "# we'll evaluate on the unseen data .."
   ],
   "outputs": [],
   "metadata": {}
  },
  {
   "cell_type": "code",
   "execution_count": null,
   "source": [
    "import joblib"
   ],
   "outputs": [],
   "metadata": {}
  },
  {
   "cell_type": "code",
   "execution_count": null,
   "source": [
    "nb_data = joblib.load(\"/Users/teliov/TUD/Thesis/Medvice/Notebooks/data/06_18_nlice_plus/nlice-adv/data/output/nb_100k/nb_serialized_sparse.joblib\")"
   ],
   "outputs": [],
   "metadata": {}
  },
  {
   "cell_type": "code",
   "execution_count": null,
   "source": [
    "nb_clf = nb_data.get('clf')"
   ],
   "outputs": [],
   "metadata": {}
  },
  {
   "cell_type": "code",
   "execution_count": null,
   "source": [
    "vec=[[1,0,44,0,0,0,0,0,0,0,0,0,0,0,0,0,0,0\n",
    ",0,0,0,0,0,0,0,0,0,0,0,0,0,0,0,0,0,0\n",
    ",0,0,0,0,0,0,0,0,0,0,0,0,0,0,0,0,0,0\n",
    ",0,0,0,0,0,0,0,0,0,0,0,0,0,0,0,0,0,0\n",
    ",1,0,0,0,0,0,0,0,0,0,0,0,0,0,0,0,0,0\n",
    ",0,0,0,0,0,0,0,0,0,0,0,0,0,0,0,1,0,0\n",
    ",0,0,0,0,0,0,0,0,0,0,0,0,0,0,0,0,0,0\n",
    ",0,0,0,0,0,0,0,0,0,0,0,126,0,0,0,0,0,0\n",
    ",0,0,0,0,0,0,0,0,0,0,0,0,0,0,0,0,0,0\n",
    ",0,0,0,0,0,0,0,0,1,0,0,0,0,0,0,0,0,0\n",
    ",0,0,0,0,0,0,0,0,0,0,0,0,0,0,0,0,0,0\n",
    ",0,0,0,0,0,1,0,0,0,0,0,0,0,0,0,0,0,0\n",
    ",0,0,0,0,0,0,0,0,0,0,0,0,0,0,0,0,0,0\n",
    ",0,0,1,0,0,0,0,0,0,0,0,0,0,0,0,0,0,0\n",
    ",0,0,0,0,0,0,0,0,0,0,0,0,0,0,0]]"
   ],
   "outputs": [],
   "metadata": {}
  },
  {
   "cell_type": "code",
   "execution_count": null,
   "source": [
    "import numpy as np"
   ],
   "outputs": [],
   "metadata": {}
  },
  {
   "cell_type": "code",
   "execution_count": null,
   "source": [
    "vec = np.array(vec)"
   ],
   "outputs": [],
   "metadata": {}
  },
  {
   "cell_type": "code",
   "execution_count": null,
   "source": [
    "from scipy.sparse import csc_matrix"
   ],
   "outputs": [],
   "metadata": {}
  },
  {
   "cell_type": "code",
   "execution_count": null,
   "source": [
    "vec = csc_matrix(vec)"
   ],
   "outputs": [],
   "metadata": {}
  },
  {
   "cell_type": "code",
   "execution_count": null,
   "source": [
    "res = nb_clf.predict_proba(vec)"
   ],
   "outputs": [],
   "metadata": {}
  },
  {
   "cell_type": "code",
   "execution_count": null,
   "source": [
    "res"
   ],
   "outputs": [
    {
     "output_type": "execute_result",
     "data": {
      "text/plain": [
       "array([[4.92455255e-26, 2.42705705e-19, 4.85147978e-07, 7.40938886e-12,\n",
       "        9.99996200e-01, 8.45675481e-36, 3.31381133e-06, 8.67802527e-10,\n",
       "        1.27774149e-40, 1.13143592e-44, 1.46078507e-12, 1.21781484e-22,\n",
       "        4.11544543e-20, 2.53092584e-27]])"
      ]
     },
     "metadata": {},
     "execution_count": 18
    }
   ],
   "metadata": {}
  },
  {
   "cell_type": "code",
   "execution_count": null,
   "source": [],
   "outputs": [],
   "metadata": {}
  }
 ],
 "metadata": {
  "kernelspec": {
   "name": "python3",
   "display_name": "Python 3.8.8 64-bit ('base': conda)"
  },
  "language_info": {
   "codemirror_mode": {
    "name": "ipython",
    "version": 3
   },
   "file_extension": ".py",
   "mimetype": "text/x-python",
   "name": "python",
   "nbconvert_exporter": "python",
   "pygments_lexer": "ipython3",
   "version": "3.8.8"
  },
  "interpreter": {
   "hash": "5cd40725cd6b1307bf83bc36da4507d9aed23032251df09ae5af98802e40880b"
  }
 },
 "nbformat": 4,
 "nbformat_minor": 4
}