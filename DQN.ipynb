{
 "cells": [
  {
   "cell_type": "code",
   "execution_count": 6,
   "metadata": {},
   "outputs": [],
   "source": [
    "import sys\n",
    "# sys.path.append(\"D:\\thesis\\thesis\\rllib\")\n",
    "\n",
    "import rllib as rl\n",
    "import json\n",
    "import joblib\n",
    "import numpy as np\n",
    "import torch\n",
    "dataset_train = \"./data_preprossing/output/train_cleaned.csv\"\n",
    "dataset_test = \"./data_preprossing/output/test_cleaned.csv\"\n",
    "symptom_map_file = \"./data/basic/symptoms_db.json\"\n",
    "condition_map_file = \"./data/basic/conditions_db.json\"\n",
    "# clf_file = \"data/basic/data/output/rf/rf_clf.joblib\"\n",
    "# clf_file = \"data/basic/data/output/rf/rf_clf.joblib\"\n",
    "clf_file = \"./symtom_models/output/nb_nlice/nb_serialized_sparse.joblib\"\n",
    "clf_data = joblib.load(clf_file)\n",
    "clf = clf_data.get('clf')\n",
    "import datetime\n",
    "import sys\n",
    "from pathlib import Path\n",
    "curr_path = str(Path().absolute())\n",
    "parent_path = str(Path().absolute().parent)\n",
    "sys.path.append(parent_path) # add current terminal path to sys.path\n",
    "curr_time = datetime.datetime.now().strftime(\"%Y%m%d-%H%M%S\") # obtain current time\n",
    "test =\"./data_preprossing/output/data/total_v1.csv\""
   ]
  },
  {
   "cell_type": "code",
   "execution_count": 7,
   "metadata": {},
   "outputs": [],
   "source": [
    "env = rl.environment.RLBasicMedEnv(\n",
    "    data_file=test,\n",
    "    symptom_map_file=symptom_map_file,\n",
    "    condition_map_file=condition_map_file,\n",
    "    clf=clf,\n",
    "    classifer=\"nb\",\n",
    "    max_turn=20,\n",
    "    epoch = 1000\n",
    ")"
   ]
  },
  {
   "cell_type": "code",
   "execution_count": 8,
   "metadata": {},
   "outputs": [],
   "source": [
    "input_dim = 3 + 3*env.num_symptoms\n",
    "output_dim = env.num_symptoms + 1\n",
    "layer_config = [\n",
    "    [input_dim, 128],\n",
    "    [128, 64],\n",
    "    [64, 48],\n",
    "    [48, 32],\n",
    "    [32, 32],\n",
    "    [32, 48],\n",
    "    [48, 64],\n",
    "    [64, output_dim]\n",
    "]\n",
    "\n",
    "learning_start = 1280\n",
    "batch_size = 64\n",
    "target_update = 1280\n",
    "replay_capacity = 1280"
   ]
  },
  {
   "cell_type": "code",
   "execution_count": 9,
   "metadata": {},
   "outputs": [],
   "source": [
    "agent = rl.agent.MedAgent(\n",
    "    env,\n",
    "    layer_config=layer_config,\n",
    "    learning_start=learning_start,\n",
    "    batch_size=batch_size,\n",
    "    target_update=target_update,\n",
    "    replay_capacity=replay_capacity,\n",
    "    debug=False,\n",
    "    train = True,\n",
    "    input_dim = input_dim,\n",
    "    output_dim = output_dim,\n",
    "    use_classfier = True\n",
    ")"
   ]
  },
  {
   "cell_type": "code",
   "execution_count": 10,
   "metadata": {},
   "outputs": [],
   "source": [
    "bench = rl.bench.MedBench(agent,50000)\n",
    "bench.run_trial(debug=False)\n",
    "cfg = rl.config.QlearningConfig()\n",
    "rl.common.make_dir(cfg.result_path,cfg.model_path)\n",
    "agent.save(cfg.model_path)"
   ]
  },
  {
   "cell_type": "code",
   "execution_count": 13,
   "metadata": {},
   "outputs": [
    {
     "name": "stdout",
     "output_type": "stream",
     "text": [
      "4e-05\n",
      "-19.7132 2.15992\n",
      "0.0\n",
      "-19.88 1.979\n"
     ]
    }
   ],
   "source": [
    "\n",
    "rewards,success,average_rewards,average_steps,loss =bench.rewardList,bench.get_success_rate(),bench.get_average_rewards(),bench.get_average_turn(),bench.get_loss()\n",
    "print(success)\n",
    "print(average_rewards,average_steps)\n",
    "agent.train = False\n",
    "agent.eps_start = 0\n",
    "agent.eps_end = 0\n",
    "testbench = rl.bench.MedBenchEval(agent,1000)\n",
    "testbench.run_trial(debug=False)\n",
    "rewards,success,average_rewards,average_steps =testbench.rewardList,testbench.get_success_rate(),testbench.get_average_rewards(),testbench.get_average_turn()\n",
    "print(success)\n",
    "print(average_rewards,average_steps)\n",
    "\n"
   ]
  },
  {
   "cell_type": "code",
   "execution_count": 7,
   "metadata": {},
   "outputs": [],
   "source": [
    "import matplotlib.pyplot as plt\n",
    "import seaborn as sns\n",
    "from pathlib import Path\n",
    "from matplotlib.font_manager import FontProperties\n",
    "\n",
    "def plot_loss(loss,tag=\"train\",env=\"milestone1\",algo = \"DQN\"):\n",
    "    sns.set()\n",
    "    plt.title(\"average learning curve of {} for {}\".format(algo,env))\n",
    "    plt.xlabel('epsiodes')\n",
    "    plt.plot(loss,label='loss')\n",
    "    plt.legend()\n",
    "\n",
    "\n",
    "def plot_rewards(rewards,tag=\"train\",env=\"milestone1\",algo = \"DQN\"):\n",
    "    sns.set()\n",
    "    plt.title(\"average learning curve of {} for {}\".format(algo,env))\n",
    "    plt.xlabel('epsiodes')\n",
    "    plt.plot(rewards,label='reward')\n",
    "    plt.legend()\n"
   ]
  },
  {
   "cell_type": "code",
   "execution_count": 8,
   "metadata": {},
   "outputs": [
    {
     "data": {
      "image/png": "[encoded data removed]",
      "text/plain": [
       "<Figure size 432x288 with 1 Axes>"
      ]
     },
     "metadata": {},
     "output_type": "display_data"
    }
   ],
   "source": [
    "# plot_rewards(rewards)\n",
    "eval = rewards\n",
    "success = 0\n",
    "plot_rewards(eval)\n"
   ]
  },
  {
   "cell_type": "code",
   "execution_count": 9,
   "metadata": {},
   "outputs": [
    {
     "name": "stdout",
     "output_type": "stream",
     "text": [
      "d:\\thesis\\thesis/outputs/baseline/20211119-125313/models/\n"
     ]
    }
   ],
   "source": [
    "\n",
    "env1 = rl.environment.RLBasicMedEnv(\n",
    "    data_file=dataset_test,\n",
    "    symptom_map_file=symptom_map_file,\n",
    "    condition_map_file=condition_map_file,\n",
    "    clf=clf,\n",
    "    classifer=\"nb\",\n",
    "    max_turn=20,\n",
    "    epoch = 2000\n",
    ")\n",
    "agent1 = rl.agent.MedAgent(\n",
    "    env1,\n",
    "    layer_config=layer_config,\n",
    "    learning_start=learning_start,\n",
    "    batch_size=batch_size,\n",
    "    target_update=target_update,\n",
    "    replay_capacity=replay_capacity,\n",
    "    eps_start = 0,\n",
    "    eps_end = 0,\n",
    "    debug=False,\n",
    "    train = False\n",
    ")\n",
    "print(cfg.model_path)\n",
    "\n"
   ]
  },
  {
   "cell_type": "code",
   "execution_count": 10,
   "metadata": {},
   "outputs": [
    {
     "name": "stdout",
     "output_type": "stream",
     "text": [
      "0.0\n",
      "-19.996 2.0\n"
     ]
    }
   ],
   "source": [
    "agent1.load(cfg.model_path)\n",
    "testbench = rl.bench.MedBenchEval(agent1,1000)\n",
    "testbench.run_trial(debug=False)\n",
    "rewards,success,average_rewards,average_steps =testbench.rewardList,testbench.get_success_rate(),testbench.get_average_rewards(),testbench.get_average_turn()\n",
    "print(success)\n",
    "print(average_rewards,average_steps)"
   ]
  },
  {
   "cell_type": "code",
   "execution_count": 11,
   "metadata": {},
   "outputs": [
    {
     "data": {
      "image/png": "[encoded data removed]",
      "text/plain": [
       "<Figure size 432x288 with 1 Axes>"
      ]
     },
     "metadata": {},
     "output_type": "display_data"
    }
   ],
   "source": [
    "eval = rewards\n",
    "success = 0\n",
    "plot_rewards(eval)"
   ]
  }
 ],
 "metadata": {
  "interpreter": {
   "hash": "7a49119d25f186b1b8fbf45c92b26e2bab72f5183a7a97ce39124ca72ff0752f"
  },
  "kernelspec": {
   "display_name": "Python 3.8.8 64-bit ('base': conda)",
   "language": "python",
   "name": "python3"
  },
  "language_info": {
   "codemirror_mode": {
    "name": "ipython",
    "version": 3
   },
   "file_extension": ".py",
   "mimetype": "text/x-python",
   "name": "python",
   "nbconvert_exporter": "python",
   "pygments_lexer": "ipython3",
   "version": "3.8.8"
  },
  "orig_nbformat": 4
 },
 "nbformat": 4,
 "nbformat_minor": 2
}
